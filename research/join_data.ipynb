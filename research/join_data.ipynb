{
 "cells": [
  {
   "cell_type": "code",
   "execution_count": 1,
   "id": "bc0eeb82",
   "metadata": {},
   "outputs": [
    {
     "data": {
      "text/plain": [
       "'c:\\\\Users\\\\Kshitij\\\\Downloads\\\\DPDZero\\\\DPDZero\\\\research'"
      ]
     },
     "execution_count": 1,
     "metadata": {},
     "output_type": "execute_result"
    }
   ],
   "source": [
    "%pwd"
   ]
  },
  {
   "cell_type": "code",
   "execution_count": 2,
   "id": "c0c7ba37",
   "metadata": {},
   "outputs": [],
   "source": [
    "import os"
   ]
  },
  {
   "cell_type": "code",
   "execution_count": 3,
   "id": "c108fecd",
   "metadata": {},
   "outputs": [],
   "source": [
    "os.chdir('../')"
   ]
  },
  {
   "cell_type": "code",
   "execution_count": 4,
   "id": "5eb0dc7a",
   "metadata": {},
   "outputs": [
    {
     "data": {
      "text/plain": [
       "'c:\\\\Users\\\\Kshitij\\\\Downloads\\\\DPDZero\\\\DPDZero'"
      ]
     },
     "execution_count": 4,
     "metadata": {},
     "output_type": "execute_result"
    }
   ],
   "source": [
    "%pwd"
   ]
  },
  {
   "cell_type": "code",
   "execution_count": 5,
   "id": "553675a6",
   "metadata": {},
   "outputs": [],
   "source": [
    "import pandas as pd"
   ]
  },
  {
   "cell_type": "code",
   "execution_count": 9,
   "id": "d0184ec7",
   "metadata": {},
   "outputs": [],
   "source": [
    "call_logs = pd.read_csv('artifacts/data_ingestion/call_logs.csv')\n",
    "agent_roster = pd.read_csv('artifacts/data_ingestion/agent_roster.csv')\n",
    "disposition_summary = pd.read_csv('artifacts/data_ingestion/disposition_summary.csv')"
   ]
  },
  {
   "cell_type": "code",
   "execution_count": 17,
   "id": "943ed40a",
   "metadata": {},
   "outputs": [],
   "source": [
    "from dataclasses import dataclass\n",
    "from pathlib import Path\n",
    "\n",
    "\n",
    "@dataclass(frozen=True)\n",
    "class DataMergingConfig:\n",
    "    root_dir: Path\n",
    "    data_dir: Path\n",
    "    merged_data_dir: Path"
   ]
  },
  {
   "cell_type": "code",
   "execution_count": 18,
   "id": "a060ff58",
   "metadata": {},
   "outputs": [],
   "source": [
    "from mlProject.constants import *\n",
    "from mlProject.utils.common import read_yaml,create_directories"
   ]
  },
  {
   "cell_type": "code",
   "execution_count": 19,
   "id": "03e8f3f0",
   "metadata": {},
   "outputs": [],
   "source": [
    "class ConfigurationManager:\n",
    "    def __init__(\n",
    "        self,\n",
    "        config_filepath = CONFIG_FILE_PATH,\n",
    "        params_filepath = PARAMS_FILE_PATH,\n",
    "        schema_filepath = SCHEMA_FILE_PATH):\n",
    "\n",
    "        self.config = read_yaml(config_filepath)\n",
    "        self.params = read_yaml(params_filepath)\n",
    "        self.schema = read_yaml(schema_filepath)\n",
    "\n",
    "        create_directories([self.config.artifacts_root])\n",
    "\n",
    "\n",
    "    \n",
    "    def get_data_merging_config(self) -> DataMergingConfig:\n",
    "        config = self.config.data_merging\n",
    "\n",
    "        create_directories([config.root_dir])\n",
    "\n",
    "        data_merging_config = DataMergingConfig(\n",
    "            root_dir = config.root_dir,\n",
    "            data_dir = config.data_dir,\n",
    "            merged_data_dir = config.merged_data_dir\n",
    "        )\n",
    "        return data_merging_config"
   ]
  },
  {
   "cell_type": "code",
   "execution_count": 20,
   "id": "6f1bcddd",
   "metadata": {},
   "outputs": [],
   "source": [
    "import pandas as pd\n",
    "import os\n",
    "import urllib.request as request\n",
    "import zipfile\n",
    "from mlProject import logger\n",
    "from mlProject.utils.common import get_size"
   ]
  },
  {
   "cell_type": "code",
   "execution_count": 26,
   "id": "9061ade3",
   "metadata": {},
   "outputs": [],
   "source": [
    "class DataMerging:\n",
    "    def __init__(self, config: DataMergingConfig):\n",
    "        self.config = config\n",
    "\n",
    "    def merge_data(self):\n",
    "        call_logs = pd.read_csv(self.config.data_dir + '/call_logs.csv')\n",
    "        agent_roster = pd.read_csv(self.config.data_dir + '/agent_roster.csv')\n",
    "        disposition_summary = pd.read_csv(self.config.data_dir + '/disposition_summary.csv')\n",
    "\n",
    "        call_logs['call_date'] = pd.to_datetime(call_logs['call_date'])\n",
    "        disposition_summary['call_date'] = pd.to_datetime(disposition_summary['call_date'])\n",
    "\n",
    "        agent_login = pd.merge(\n",
    "            agent_roster,\n",
    "            disposition_summary,\n",
    "            on=['agent_id', 'org_id'],\n",
    "            how='left'\n",
    "        )\n",
    "\n",
    "        merged_df = pd.merge(\n",
    "            agent_login,\n",
    "            call_logs,\n",
    "            on=['agent_id', 'org_id', 'call_date'],\n",
    "            how='left'\n",
    "        )\n",
    "        merged_df.to_csv(self.config.merged_data_dir, index=False)\n",
    "        \n",
    "        logger.info(f\"Data merged and saved to {self.config.merged_data_dir}\")\n",
    "        "
   ]
  },
  {
   "cell_type": "code",
   "execution_count": 27,
   "id": "86e04a2b",
   "metadata": {},
   "outputs": [
    {
     "name": "stdout",
     "output_type": "stream",
     "text": [
      "[2025-05-03 19:16:08,190: INFO: common: yaml file: config\\config.yaml loaded successfully]\n",
      "[2025-05-03 19:16:08,196: INFO: common: yaml file: params.yaml loaded successfully]\n",
      "[2025-05-03 19:16:08,200: INFO: common: yaml file: schema.yaml loaded successfully]\n",
      "[2025-05-03 19:16:08,204: INFO: common: created directory at: artifacts]\n",
      "[2025-05-03 19:16:08,207: INFO: common: created directory at: artifacts/data_merging]\n",
      "[2025-05-03 19:16:08,254: INFO: 3098861574: Data merged and saved to artifacts/data_merging/merged_data.csv]\n"
     ]
    }
   ],
   "source": [
    "try:\n",
    "    config = ConfigurationManager()\n",
    "    data_merging_config = config.get_data_merging_config()\n",
    "    data_merging = DataMerging(config=data_merging_config)\n",
    "    data_merging.merge_data()\n",
    "except Exception as e:\n",
    "    raise e\n"
   ]
  },
  {
   "cell_type": "code",
   "execution_count": null,
   "id": "b31e5573",
   "metadata": {},
   "outputs": [],
   "source": []
  }
 ],
 "metadata": {
  "kernelspec": {
   "display_name": "DPD",
   "language": "python",
   "name": "python3"
  },
  "language_info": {
   "codemirror_mode": {
    "name": "ipython",
    "version": 3
   },
   "file_extension": ".py",
   "mimetype": "text/x-python",
   "name": "python",
   "nbconvert_exporter": "python",
   "pygments_lexer": "ipython3",
   "version": "3.10.16"
  }
 },
 "nbformat": 4,
 "nbformat_minor": 5
}
