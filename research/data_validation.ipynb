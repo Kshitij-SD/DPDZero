{
 "cells": [
  {
   "cell_type": "code",
   "execution_count": 1,
   "id": "916edcfc",
   "metadata": {},
   "outputs": [
    {
     "data": {
      "text/plain": [
       "'c:\\\\Users\\\\Kshitij\\\\Downloads\\\\DPDZero\\\\DPDZero\\\\research'"
      ]
     },
     "execution_count": 1,
     "metadata": {},
     "output_type": "execute_result"
    }
   ],
   "source": [
    "%pwd"
   ]
  },
  {
   "cell_type": "code",
   "execution_count": 2,
   "id": "df13a510",
   "metadata": {},
   "outputs": [],
   "source": [
    "import os"
   ]
  },
  {
   "cell_type": "code",
   "execution_count": 3,
   "id": "640689f6",
   "metadata": {},
   "outputs": [],
   "source": [
    "os.chdir('../')"
   ]
  },
  {
   "cell_type": "code",
   "execution_count": 4,
   "id": "481db4b8",
   "metadata": {},
   "outputs": [
    {
     "data": {
      "text/plain": [
       "'c:\\\\Users\\\\Kshitij\\\\Downloads\\\\DPDZero\\\\DPDZero'"
      ]
     },
     "execution_count": 4,
     "metadata": {},
     "output_type": "execute_result"
    }
   ],
   "source": [
    "%pwd"
   ]
  },
  {
   "cell_type": "code",
   "execution_count": 8,
   "id": "a45125d6",
   "metadata": {},
   "outputs": [
    {
     "name": "stdout",
     "output_type": "stream",
     "text": [
      "<class 'pandas.core.frame.DataFrame'>\n",
      "RangeIndex: 500 entries, 0 to 499\n",
      "Data columns (total 8 columns):\n",
      " #   Column          Non-Null Count  Dtype  \n",
      "---  ------          --------------  -----  \n",
      " 0   call_id         500 non-null    object \n",
      " 1   agent_id        500 non-null    object \n",
      " 2   org_id          500 non-null    object \n",
      " 3   installment_id  500 non-null    object \n",
      " 4   status          500 non-null    object \n",
      " 5   duration        500 non-null    float64\n",
      " 6   created_ts      500 non-null    object \n",
      " 7   call_date       500 non-null    object \n",
      "dtypes: float64(1), object(7)\n",
      "memory usage: 31.4+ KB\n"
     ]
    }
   ],
   "source": [
    "import pandas as pd\n",
    "df = pd.read_csv('data/call_logs.csv')\n",
    "df.info()"
   ]
  },
  {
   "cell_type": "code",
   "execution_count": 9,
   "id": "d7df0dc5",
   "metadata": {},
   "outputs": [
    {
     "data": {
      "text/plain": [
       "Index(['call_id', 'agent_id', 'org_id', 'installment_id', 'status', 'duration',\n",
       "       'created_ts', 'call_date'],\n",
       "      dtype='object')"
      ]
     },
     "execution_count": 9,
     "metadata": {},
     "output_type": "execute_result"
    }
   ],
   "source": [
    "df.columns"
   ]
  },
  {
   "cell_type": "code",
   "execution_count": 10,
   "id": "0c5e4276",
   "metadata": {},
   "outputs": [],
   "source": [
    "from dataclasses import dataclass\n",
    "from pathlib import Path\n",
    "\n",
    "\n",
    "@dataclass(frozen=True)\n",
    "class DataValidationConfig:\n",
    "    root_dir: Path\n",
    "    data_dir: Path\n",
    "    STATUS_FILE: str\n",
    "    all_schema: dict\n"
   ]
  },
  {
   "cell_type": "code",
   "execution_count": 11,
   "id": "b9d84f57",
   "metadata": {},
   "outputs": [],
   "source": [
    "from mlProject.constants import *\n",
    "from mlProject.utils.common import read_yaml, create_directories"
   ]
  },
  {
   "cell_type": "code",
   "execution_count": 12,
   "id": "45cb5b92",
   "metadata": {},
   "outputs": [],
   "source": [
    "class ConfigurationManager:\n",
    "    def __init__(\n",
    "        self,\n",
    "        config_filepath = CONFIG_FILE_PATH,\n",
    "        params_filepath = PARAMS_FILE_PATH,\n",
    "        schema_filepath = SCHEMA_FILE_PATH):\n",
    "\n",
    "        self.config = read_yaml(config_filepath)\n",
    "        self.params = read_yaml(params_filepath)\n",
    "        self.schema = read_yaml(schema_filepath)\n",
    "\n",
    "        create_directories([self.config.artifacts_root])\n",
    "\n",
    "\n",
    "    \n",
    "    def get_data_validation_config(self) -> DataValidationConfig:\n",
    "        config = self.config.data_validation\n",
    "        schema = self.schema.COLUMNS\n",
    "\n",
    "        create_directories([config.root_dir])\n",
    "\n",
    "        data_validation_config = DataValidationConfig(\n",
    "            root_dir=config.root_dir,\n",
    "            data_dir = config.data_dir,\n",
    "            STATUS_FILE=config.STATUS_FILE,\n",
    "            all_schema=schema,\n",
    "        )\n",
    "\n",
    "        return data_validation_config\n"
   ]
  },
  {
   "cell_type": "code",
   "execution_count": 22,
   "id": "614b65e8",
   "metadata": {},
   "outputs": [],
   "source": [
    "import os\n",
    "from mlProject import logger\n",
    "import re"
   ]
  },
  {
   "cell_type": "code",
   "execution_count": 33,
   "id": "b592cf7d",
   "metadata": {},
   "outputs": [],
   "source": [
    "import pandas as pd\n",
    "from datetime import datetime\n",
    "\n",
    "class DataValiadtion:\n",
    "    def __init__(self, config: DataValidationConfig):\n",
    "        self.config = config\n",
    "\n",
    "    def validate_all_columns(self) -> bool:\n",
    "        try:\n",
    "            validation_status = True\n",
    "            error_messages = []\n",
    "            data = pd.read_csv(self.config.data_dir, dtype={'call_date': str})\n",
    "            all_cols = list(data.columns)\n",
    "            expected_cols = list(self.config.all_schema.keys())\n",
    "\n",
    "            missing_cols = [col for col in expected_cols if col not in all_cols]\n",
    "            if missing_cols:\n",
    "                validation_status = False\n",
    "                error_messages.append(f\"Missing columns: {missing_cols}\")\n",
    "\n",
    "            if 'org_id' in data.columns:\n",
    "                if not data['org_id'].isin(['O1', 'O2', 'O3']).all():\n",
    "                    validation_status = False\n",
    "                    invalid_ord_ids = data[~data['org_id'].isin(['O1', 'O2', 'O3'])]['org_id'].unique().tolist()\n",
    "                    error_messages.append(f\"Invalid ord_id values found: {invalid_ord_ids}\")\n",
    "            else:\n",
    "                error_messages.append(\"Column 'org_id' not found.\")\n",
    "\n",
    "            if 'agent_id' in data.columns:\n",
    "                valid_agents = [f\"A{str(i).zfill(3)}\" for i in range(1, 21)]\n",
    "                if not data['agent_id'].isin(valid_agents).all():\n",
    "                    validation_status = False\n",
    "                    invalid_agents = data[~data['agent_id'].isin(valid_agents)]['agent_id'].unique().tolist()\n",
    "                    error_messages.append(f\"Invalid agent_id values found: {invalid_agents}\")\n",
    "            else:\n",
    "                error_messages.append(\"Column 'agent_id' not found.\")\n",
    "\n",
    "            if 'call_date' in data.columns:\n",
    "                data['call_date'] = pd.to_datetime(data['call_date'], errors='coerce')\n",
    "                data['call_date'] = data['call_date'].dt.strftime('%#m/%#d/%Y')\n",
    "                invalid_dates = []\n",
    "                date_pattern = re.compile(r\"^\\d{1,2}/\\d{1,2}/\\d{4}$\") \n",
    "\n",
    "                for date_str in data['call_date']:\n",
    "                    if not isinstance(date_str, str) or not date_pattern.fullmatch(date_str.strip()):\n",
    "                        invalid_dates.append(str(date_str))\n",
    "\n",
    "                if invalid_dates:\n",
    "                    validation_status = False\n",
    "                    error_messages.append(f\"Invalid call_date formats (expected M/D/YYYY): {invalid_dates}\")\n",
    "            else:\n",
    "                error_messages.append(\"Column 'call_date' not found.\")\n",
    "\n",
    "            with open(self.config.STATUS_FILE, 'w') as f:\n",
    "                f.write(f\"Validation status: {validation_status}\\n\")\n",
    "                if error_messages:\n",
    "                    for msg in error_messages:\n",
    "                        f.write(f\"{msg}\\n\")\n",
    "\n",
    "            return validation_status\n",
    "\n",
    "        except Exception as e:\n",
    "            with open(self.config.STATUS_FILE, 'w') as f:\n",
    "                f.write(f\"Validation failed due to unexpected error: {str(e)}\\n\")\n",
    "            raise e\n"
   ]
  },
  {
   "cell_type": "code",
   "execution_count": 32,
   "id": "6bc178f3",
   "metadata": {},
   "outputs": [
    {
     "name": "stdout",
     "output_type": "stream",
     "text": [
      "[2025-05-03 17:32:25,135: INFO: common: yaml file: config\\config.yaml loaded successfully]\n",
      "[2025-05-03 17:32:25,141: INFO: common: yaml file: params.yaml loaded successfully]\n",
      "[2025-05-03 17:32:25,149: INFO: common: yaml file: schema.yaml loaded successfully]\n",
      "[2025-05-03 17:32:25,158: INFO: common: created directory at: artifacts]\n",
      "[2025-05-03 17:32:25,160: INFO: common: created directory at: artifacts/data_validation]\n"
     ]
    }
   ],
   "source": [
    "try:\n",
    "    config = ConfigurationManager()\n",
    "    data_validation_config = config.get_data_validation_config()\n",
    "    data_validation = DataValiadtion(config=data_validation_config)\n",
    "    data_validation.validate_all_columns()\n",
    "except Exception as e:\n",
    "    raise e"
   ]
  },
  {
   "cell_type": "code",
   "execution_count": null,
   "id": "7961809b",
   "metadata": {},
   "outputs": [],
   "source": []
  }
 ],
 "metadata": {
  "kernelspec": {
   "display_name": "DPD",
   "language": "python",
   "name": "python3"
  },
  "language_info": {
   "codemirror_mode": {
    "name": "ipython",
    "version": 3
   },
   "file_extension": ".py",
   "mimetype": "text/x-python",
   "name": "python",
   "nbconvert_exporter": "python",
   "pygments_lexer": "ipython3",
   "version": "3.10.16"
  }
 },
 "nbformat": 4,
 "nbformat_minor": 5
}
