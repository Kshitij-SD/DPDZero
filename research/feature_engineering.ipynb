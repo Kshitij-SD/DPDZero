{
 "cells": [
  {
   "cell_type": "code",
   "execution_count": 1,
   "id": "ee4bd1b1",
   "metadata": {},
   "outputs": [],
   "source": [
    "import os"
   ]
  },
  {
   "cell_type": "code",
   "execution_count": 2,
   "id": "6051d64b",
   "metadata": {},
   "outputs": [],
   "source": [
    "os.chdir(\"../\")"
   ]
  },
  {
   "cell_type": "code",
   "execution_count": 3,
   "id": "4f08acb5",
   "metadata": {},
   "outputs": [
    {
     "data": {
      "text/plain": [
       "'c:\\\\Users\\\\Kshitij\\\\Downloads\\\\DPDZero\\\\DPDZero'"
      ]
     },
     "execution_count": 3,
     "metadata": {},
     "output_type": "execute_result"
    }
   ],
   "source": [
    "%pwd"
   ]
  },
  {
   "cell_type": "code",
   "execution_count": 6,
   "id": "60ee0326",
   "metadata": {},
   "outputs": [],
   "source": [
    "from dataclasses import dataclass\n",
    "from pathlib import Path\n",
    "\n",
    "\n",
    "@dataclass(frozen=True)\n",
    "class DataFeatureConfig:\n",
    "    root_dir: Path\n",
    "    data_dir: Path\n",
    "    output_dir: Path"
   ]
  },
  {
   "cell_type": "code",
   "execution_count": 7,
   "id": "e42b82e9",
   "metadata": {},
   "outputs": [],
   "source": [
    "from mlProject.constants import *\n",
    "from mlProject.utils.common import read_yaml,create_directories"
   ]
  },
  {
   "cell_type": "code",
   "execution_count": 12,
   "id": "a6f10b6e",
   "metadata": {},
   "outputs": [],
   "source": [
    "class ConfigurationManager:\n",
    "    def __init__(\n",
    "        self,\n",
    "        config_filepath = CONFIG_FILE_PATH,\n",
    "        params_filepath = PARAMS_FILE_PATH,\n",
    "        schema_filepath = SCHEMA_FILE_PATH):\n",
    "\n",
    "        self.config = read_yaml(config_filepath)\n",
    "        self.params = read_yaml(params_filepath)\n",
    "        self.schema = read_yaml(schema_filepath)\n",
    "\n",
    "        create_directories([self.config.artifacts_root])\n",
    "\n",
    "\n",
    "    \n",
    "    def get_feature_config(self) -> DataFeatureConfig:\n",
    "        config = self.config.feature_engineering\n",
    "\n",
    "        create_directories([config.root_dir])\n",
    "\n",
    "        data_feature_config = DataFeatureConfig(\n",
    "            root_dir = config.root_dir,\n",
    "            data_dir = config.data_dir,\n",
    "            output_dir = config.output_dir\n",
    "        )\n",
    "        return data_feature_config"
   ]
  },
  {
   "cell_type": "code",
   "execution_count": 13,
   "id": "4d5be4b2",
   "metadata": {},
   "outputs": [],
   "source": [
    "import pandas as pd\n",
    "import os\n",
    "import urllib.request as request\n",
    "import zipfile\n",
    "from mlProject import logger\n",
    "from mlProject.utils.common import get_size"
   ]
  },
  {
   "cell_type": "code",
   "execution_count": null,
   "id": "ce7607e2",
   "metadata": {},
   "outputs": [],
   "source": [
    "class FeatureEngineering:\n",
    "    def __init__(self, config: DataFeatureConfig):\n",
    "        self.config = config\n",
    "\n",
    "    def transform(self):\n",
    "        merged_df = pd.read_csv(self.config.data_dir)\n",
    "        agent_performance = merged_df.groupby(['agent_id', 'users_first_name', 'users_last_name', \n",
    "                                        'users_office_location', 'org_id', 'call_date']).apply(self.calculate_metrics).reset_index()\n",
    "        agent_performance = agent_performance[[\n",
    "            'agent_id', 'users_first_name', 'users_last_name', 'users_office_location', 'org_id',\n",
    "            'call_date', 'login_time', 'presence', 'total_calls', 'unique_loans_contacted',\n",
    "            'connect_rate', 'avg_call_duration'\n",
    "        ]]\n",
    "        \n",
    "        agent_performance['connect_rate'] = agent_performance['connect_rate'].apply(lambda x: f\"{x:.2%}\")\n",
    "        agent_performance.to_csv(self.config.output_dir, index=False)\n",
    "            \n",
    "    \n",
    "    def calculate_metrics(self,group):\n",
    "        total_calls = group['call_id'].nunique()\n",
    "        unique_loans = group['installment_id'].nunique()\n",
    "        \n",
    "        completed_calls = group[group['status'] == 'completed']['call_id'].nunique()\n",
    "        connect_rate = completed_calls / total_calls if total_calls > 0 else 0\n",
    "        \n",
    "        avg_duration = group['duration'].mean() if total_calls > 0 else 0\n",
    "        presence = 1 if pd.notna(group['login_time'].iloc[0]) else 0\n",
    "        \n",
    "        return pd.Series({\n",
    "            'total_calls': total_calls,\n",
    "            'unique_loans_contacted': unique_loans,\n",
    "            'connect_rate': connect_rate,\n",
    "            'avg_call_duration': avg_duration,\n",
    "            'presence': presence,\n",
    "            'login_time': group['login_time'].iloc[0] if pd.notna(group['login_time'].iloc[0]) else 'Not Logged In'\n",
    "        })"
   ]
  },
  {
   "cell_type": "code",
   "execution_count": 20,
   "id": "f8e15073",
   "metadata": {},
   "outputs": [
    {
     "name": "stdout",
     "output_type": "stream",
     "text": [
      "[2025-05-03 20:06:23,047: INFO: common: yaml file: config\\config.yaml loaded successfully]\n",
      "[2025-05-03 20:06:23,051: INFO: common: yaml file: params.yaml loaded successfully]\n",
      "[2025-05-03 20:06:23,056: INFO: common: yaml file: schema.yaml loaded successfully]\n",
      "[2025-05-03 20:06:23,058: INFO: common: created directory at: artifacts]\n",
      "[2025-05-03 20:06:23,061: INFO: common: created directory at: artifacts/feature_engineering]\n"
     ]
    },
    {
     "name": "stderr",
     "output_type": "stream",
     "text": [
      "C:\\Users\\Kshitij\\AppData\\Local\\Temp\\ipykernel_21224\\1714213985.py:8: DeprecationWarning: DataFrameGroupBy.apply operated on the grouping columns. This behavior is deprecated, and in a future version of pandas the grouping columns will be excluded from the operation. Either pass `include_groups=False` to exclude the groupings or explicitly select the grouping columns after groupby to silence this warning.\n",
      "  'users_office_location', 'org_id', 'call_date']).apply(self.calculate_metrics).reset_index()\n"
     ]
    }
   ],
   "source": [
    "try:\n",
    "    config = ConfigurationManager()\n",
    "    data_feature_config = config.get_feature_config()\n",
    "    data_feature = FeatureEngineering(config=data_feature_config)\n",
    "    data_feature.transform()\n",
    "except Exception as e:\n",
    "    raise e"
   ]
  },
  {
   "cell_type": "code",
   "execution_count": null,
   "id": "2baa9331",
   "metadata": {},
   "outputs": [],
   "source": []
  }
 ],
 "metadata": {
  "kernelspec": {
   "display_name": "DPD",
   "language": "python",
   "name": "python3"
  },
  "language_info": {
   "codemirror_mode": {
    "name": "ipython",
    "version": 3
   },
   "file_extension": ".py",
   "mimetype": "text/x-python",
   "name": "python",
   "nbconvert_exporter": "python",
   "pygments_lexer": "ipython3",
   "version": "3.10.16"
  }
 },
 "nbformat": 4,
 "nbformat_minor": 5
}
